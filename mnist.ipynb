{
 "cells": [
  {
   "cell_type": "code",
   "execution_count": 4,
   "id": "1b685b4f",
   "metadata": {},
   "outputs": [
    {
     "name": "stderr",
     "output_type": "stream",
     "text": [
      "100%|██████████| 9.91M/9.91M [00:03<00:00, 3.09MB/s]\n",
      "100%|██████████| 28.9k/28.9k [00:00<00:00, 93.5kB/s]\n",
      "100%|██████████| 1.65M/1.65M [00:03<00:00, 447kB/s]\n",
      "100%|██████████| 4.54k/4.54k [00:00<00:00, 3.68MB/s]\n"
     ]
    }
   ],
   "source": [
    "import torch\n",
    "import torchvision\n",
    "from torchvision import transforms\n",
    "from torch.utils.data import DataLoader\n",
    "\n",
    "image_path = './data/'\n",
    "\n",
    "transform = transforms.Compose([\n",
    "    transforms.ToTensor()\n",
    "])\n",
    "\n",
    "mnist_train_dataset = torchvision.datasets.MNIST(\n",
    "    root=image_path, train=True,\n",
    "    transform=transform, download=True\n",
    ")\n",
    "\n",
    "mnist_test_dataset = torchvision.datasets.MNIST(\n",
    "    root=image_path, train=False,\n",
    "    transform=transform, download=True\n",
    ")\n",
    "\n",
    "batch_size = 64\n",
    "torch.manual_seed(42)\n",
    "train_dl = DataLoader(mnist_train_dataset,\n",
    "                      batch_size=batch_size, shuffle=True)"
   ]
  },
  {
   "cell_type": "code",
   "execution_count": 21,
   "id": "0253cfd0",
   "metadata": {},
   "outputs": [
    {
     "data": {
      "text/plain": [
       "MNISTClassifier(\n",
       "  (l0): Flatten(start_dim=1, end_dim=-1)\n",
       "  (l1): Linear(in_features=784, out_features=32, bias=True)\n",
       "  (a1): ReLU()\n",
       "  (l2): Linear(in_features=32, out_features=16, bias=True)\n",
       "  (a2): ReLU()\n",
       "  (l3): Linear(in_features=16, out_features=10, bias=True)\n",
       ")"
      ]
     },
     "execution_count": 21,
     "metadata": {},
     "output_type": "execute_result"
    }
   ],
   "source": [
    "import torch.nn as nn\n",
    "\n",
    "image_size = mnist_train_dataset[0][0].shape\n",
    "input_shape = image_size[0] * image_size[1] * image_size[2]\n",
    "\n",
    "class MNISTClassifier(nn.Module):\n",
    "    def __init__(self, input_size, hidden_size_l1,\n",
    "                 hidden_size_l2, output_size):\n",
    "        super().__init__()\n",
    "        self.l0 = nn.Flatten()\n",
    "        self.l1 = nn.Linear(input_size, hidden_size_l1)\n",
    "        self.a1 = nn.ReLU()\n",
    "        self.l2 = nn.Linear(hidden_size_l1, hidden_size_l2)\n",
    "        self.a2 = nn.ReLU()\n",
    "        self.l3 = nn.Linear(hidden_size_l2, output_size)\n",
    "\n",
    "    def forward(self, x):\n",
    "        x = self.l0(x)\n",
    "        x = self.l1(x)\n",
    "        x = self.a1(x)\n",
    "        x = self.l2(x)\n",
    "        x = self.a2(x)\n",
    "        x = self.l3(x)\n",
    "        return x\n",
    "    \n",
    "model = MNISTClassifier(input_shape, 32, 16, 10)\n",
    "model"
   ]
  },
  {
   "cell_type": "code",
   "execution_count": 22,
   "id": "6e686a94",
   "metadata": {},
   "outputs": [],
   "source": [
    "loss_fn = nn.CrossEntropyLoss()\n",
    "optimizer = torch.optim.Adam(model.parameters(), lr=0.001)"
   ]
  },
  {
   "cell_type": "code",
   "execution_count": 26,
   "id": "6b430fc2",
   "metadata": {},
   "outputs": [
    {
     "name": "stdout",
     "output_type": "stream",
     "text": [
      "Epoch 0 | loss: 0.0273 | accuracy: 0.9915\n",
      "Epoch 1 | loss: 0.0263 | accuracy: 0.9916\n",
      "Epoch 2 | loss: 0.0254 | accuracy: 0.9916\n",
      "Epoch 3 | loss: 0.0239 | accuracy: 0.9925\n",
      "Epoch 4 | loss: 0.0231 | accuracy: 0.9925\n",
      "Epoch 5 | loss: 0.0231 | accuracy: 0.9925\n",
      "Epoch 6 | loss: 0.0206 | accuracy: 0.9934\n",
      "Epoch 7 | loss: 0.0209 | accuracy: 0.9931\n",
      "Epoch 8 | loss: 0.0196 | accuracy: 0.9934\n",
      "Epoch 9 | loss: 0.0201 | accuracy: 0.9934\n",
      "Epoch 10 | loss: 0.0187 | accuracy: 0.9938\n",
      "Epoch 11 | loss: 0.0178 | accuracy: 0.9943\n",
      "Epoch 12 | loss: 0.0160 | accuracy: 0.9953\n",
      "Epoch 13 | loss: 0.0168 | accuracy: 0.9945\n",
      "Epoch 14 | loss: 0.0151 | accuracy: 0.9950\n",
      "Epoch 15 | loss: 0.0164 | accuracy: 0.9947\n",
      "Epoch 16 | loss: 0.0169 | accuracy: 0.9942\n",
      "Epoch 17 | loss: 0.0161 | accuracy: 0.9945\n",
      "Epoch 18 | loss: 0.0126 | accuracy: 0.9961\n",
      "Epoch 19 | loss: 0.0140 | accuracy: 0.9952\n"
     ]
    }
   ],
   "source": [
    "num_epochs = 20\n",
    "\n",
    "train_loss = 0\n",
    "train_acc = 0\n",
    "\n",
    "for epoch in range(num_epochs):\n",
    "    for x, y in train_dl:\n",
    "        preds = model(x)\n",
    "        loss = loss_fn(preds, y)\n",
    "        loss.backward()\n",
    "        optimizer.step()\n",
    "        optimizer.zero_grad()\n",
    "\n",
    "        train_loss += loss.item()\n",
    "        is_correct = (torch.argmax(preds, dim=1) == y).float()\n",
    "        train_acc += is_correct.sum()\n",
    "\n",
    "    train_loss /= len(train_dl)\n",
    "    train_acc /= len(train_dl.dataset)\n",
    "\n",
    "    print(f'Epoch {epoch} | '\n",
    "          f'loss: {train_loss:.4f} | '\n",
    "          f'accuracy: {train_acc:.4f}')\n"
   ]
  },
  {
   "cell_type": "code",
   "execution_count": 27,
   "id": "a201848b",
   "metadata": {},
   "outputs": [
    {
     "name": "stdout",
     "output_type": "stream",
     "text": [
      "Test accuracy: 0.9637\n"
     ]
    }
   ],
   "source": [
    "pred = model(mnist_test_dataset.data / 255.)\n",
    "is_correct = (torch.argmax(pred, dim=1) == mnist_test_dataset.targets).float()\n",
    "print(f'Test accuracy: {is_correct.mean():.4f}')"
   ]
  }
 ],
 "metadata": {
  "kernelspec": {
   "display_name": "dl_noob",
   "language": "python",
   "name": "python3"
  },
  "language_info": {
   "codemirror_mode": {
    "name": "ipython",
    "version": 3
   },
   "file_extension": ".py",
   "mimetype": "text/x-python",
   "name": "python",
   "nbconvert_exporter": "python",
   "pygments_lexer": "ipython3",
   "version": "3.12.6"
  }
 },
 "nbformat": 4,
 "nbformat_minor": 5
}
